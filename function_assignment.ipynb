{
 "cells": [
  {
   "cell_type": "markdown",
   "id": "575be5bd-c617-4eb9-889a-18c33cb5e6ce",
   "metadata": {},
   "source": [
    "THEORY ANSWERS:-"
   ]
  },
  {
   "cell_type": "markdown",
   "id": "3952d1e5-abf8-45c7-ab59-dc7750d59a61",
   "metadata": {},
   "source": [
    "1.DIFFERENCE BETWEEN A FUNCTION AND METHOD OF PYTHON WITH EXAMPLE?\n",
    " \n",
    " A function is a block of code that is defined using the def keyword and can be called by its name. Functions are not associated with any object or class.\n",
    " SYNTAX:\n"
   ]
  },
  {
   "cell_type": "code",
   "execution_count": 2,
   "id": "e5ac6026-3473-4f0a-b2ae-5d70b123c038",
   "metadata": {},
   "outputs": [],
   "source": [
    "def function_name():\n",
    "    return \"THIS IS MY FIRST FUNC\"\n"
   ]
  },
  {
   "cell_type": "code",
   "execution_count": 3,
   "id": "b5d06e0a-cf73-4b33-b5d2-548891bc9be2",
   "metadata": {},
   "outputs": [
    {
     "data": {
      "text/plain": [
       "'THIS IS MY FIRST FUNC'"
      ]
     },
     "execution_count": 3,
     "metadata": {},
     "output_type": "execute_result"
    }
   ],
   "source": [
    "function_name()"
   ]
  },
  {
   "cell_type": "markdown",
   "id": "0d26f8c5-a7b5-4080-a4fc-fa27de26371d",
   "metadata": {},
   "source": [
    "A method is a function that is defined within a class. Methods are accessed using dot notation and it is used for object oriented programming.\n",
    "syntax:"
   ]
  },
  {
   "cell_type": "code",
   "execution_count": 4,
   "id": "25c5b945-49e9-437b-aa7b-de0821736cd8",
   "metadata": {},
   "outputs": [],
   "source": [
    "a=[1,2,3]\n",
    "b=[4,5,6]\n"
   ]
  },
  {
   "cell_type": "code",
   "execution_count": 5,
   "id": "ec07292a-4de8-4ff5-86b2-0faf94519239",
   "metadata": {},
   "outputs": [],
   "source": [
    "def addition(a,b):\n",
    "    return a+b"
   ]
  },
  {
   "cell_type": "code",
   "execution_count": 6,
   "id": "3e0c991a-1d66-4b84-93cf-39b5441092ed",
   "metadata": {},
   "outputs": [
    {
     "data": {
      "text/plain": [
       "11"
      ]
     },
     "execution_count": 6,
     "metadata": {},
     "output_type": "execute_result"
    }
   ],
   "source": [
    "addition(5,6)"
   ]
  },
  {
   "cell_type": "code",
   "execution_count": 7,
   "id": "297854d5-148f-4183-8703-3306f9277a74",
   "metadata": {},
   "outputs": [
    {
     "name": "stdout",
     "output_type": "stream",
     "text": [
      "15\n"
     ]
    }
   ],
   "source": [
    "class Calculator:\n",
    "    def __init__(self, value):\n",
    "        self.value = value\n",
    "    \n",
    "    def add(self, number):\n",
    "        self.value += number\n",
    "        return self.value\n",
    "\n",
    "calc = Calculator(10)\n",
    "result = calc.add(5)\n",
    "print(result)"
   ]
  },
  {
   "cell_type": "markdown",
   "id": "cab68db1-6bdd-4853-9bcf-aabeadd22c53",
   "metadata": {},
   "source": [
    "2.Explain the concept of function arguments and parameters in Python?"
   ]
  },
  {
   "cell_type": "markdown",
   "id": "2afd7050-d1b7-48eb-bc58-637132fc22d4",
   "metadata": {},
   "source": [
    "Parameters are variables listed in the function definition. They act as placeholders for the values that will be passed to the function when it is called."
   ]
  },
  {
   "cell_type": "code",
   "execution_count": 11,
   "id": "67ed2fc8-65f0-442d-8357-ff8e9c9e31cf",
   "metadata": {},
   "outputs": [],
   "source": [
    "def greet():\n",
    "    message=\"hello,welcome!\"\n",
    "    print(message)"
   ]
  },
  {
   "cell_type": "code",
   "execution_count": 12,
   "id": "9c495fff-306e-4015-9220-f8f7b76f6c28",
   "metadata": {},
   "outputs": [
    {
     "name": "stdout",
     "output_type": "stream",
     "text": [
      "hello,welcome!\n"
     ]
    }
   ],
   "source": [
    "greet()"
   ]
  },
  {
   "cell_type": "markdown",
   "id": "d14553b7-4989-4a45-b6ef-9eb9f3b1c73c",
   "metadata": {},
   "source": [
    " Arguments are the actual values you pass to the function when calling it. They are used to provide specific data to the function’s parameters."
   ]
  },
  {
   "cell_type": "code",
   "execution_count": 14,
   "id": "42e6d44f-d764-4f31-b4e4-9aca2adae3c4",
   "metadata": {},
   "outputs": [],
   "source": [
    "def sum1(*arg):\n",
    "    return arg"
   ]
  },
  {
   "cell_type": "code",
   "execution_count": 15,
   "id": "70c4cf7b-91cf-4ec8-b24b-3aec9fa426e5",
   "metadata": {},
   "outputs": [
    {
     "data": {
      "text/plain": [
       "(1, 2)"
      ]
     },
     "execution_count": 15,
     "metadata": {},
     "output_type": "execute_result"
    }
   ],
   "source": [
    "sum1(1,2)"
   ]
  },
  {
   "cell_type": "code",
   "execution_count": 16,
   "id": "ef806ba3-c5be-485b-8e22-a63a2bf0eea6",
   "metadata": {},
   "outputs": [
    {
     "data": {
      "text/plain": [
       "(1, 2, 3, 4)"
      ]
     },
     "execution_count": 16,
     "metadata": {},
     "output_type": "execute_result"
    }
   ],
   "source": [
    "sum1(1,2,3,4)"
   ]
  },
  {
   "cell_type": "markdown",
   "id": "6c18cd36-8fd0-43cf-8592-c22d769189e7",
   "metadata": {},
   "source": [
    "3.What are the different ways to define and call a function in Python?\n"
   ]
  },
  {
   "cell_type": "markdown",
   "id": "576276d2-b6d5-4c08-be6d-b0945c1c0d80",
   "metadata": {},
   "source": [
    "Lambda functions are anonymous functions defined using the lambda keyword. They are useful for short, throwaway functions.\n"
   ]
  },
  {
   "cell_type": "code",
   "execution_count": 2,
   "id": "7f5639a0-f16b-479b-a705-d4eb2941111d",
   "metadata": {},
   "outputs": [
    {
     "name": "stdout",
     "output_type": "stream",
     "text": [
      "25\n"
     ]
    }
   ],
   "source": [
    "\n",
    "square = lambda x: x *x\n",
    "result = square(5)\n",
    "print(result) \n"
   ]
  },
  {
   "cell_type": "markdown",
   "id": "4094bb23-8198-423f-b266-d12afa0887ad",
   "metadata": {},
   "source": [
    "Functions with Default Arguments"
   ]
  },
  {
   "cell_type": "code",
   "execution_count": 3,
   "id": "2dd4eb3a-b776-4e49-a9bd-fbf11b98eb27",
   "metadata": {},
   "outputs": [],
   "source": [
    "def sum1(a,b,c):\n",
    "    return a+b+c"
   ]
  },
  {
   "cell_type": "code",
   "execution_count": 4,
   "id": "497e1ea8-280c-4538-bc33-e992b26c7129",
   "metadata": {},
   "outputs": [
    {
     "data": {
      "text/plain": [
       "10"
      ]
     },
     "execution_count": 4,
     "metadata": {},
     "output_type": "execute_result"
    }
   ],
   "source": [
    "sum1(2,3,5)"
   ]
  },
  {
   "cell_type": "markdown",
   "id": "bd72be4e-1d1d-4bb8-a1eb-def609e4ec69",
   "metadata": {},
   "source": [
    "Variable-Length Arguments"
   ]
  },
  {
   "cell_type": "code",
   "execution_count": 5,
   "id": "b1e031ea-3f1b-49d3-bbdf-14f4d2306663",
   "metadata": {},
   "outputs": [],
   "source": [
    "def sum1(*args):\n",
    "    return args"
   ]
  },
  {
   "cell_type": "code",
   "execution_count": 6,
   "id": "fd692bba-be7f-4f05-9f85-5e373cf44d39",
   "metadata": {},
   "outputs": [
    {
     "data": {
      "text/plain": [
       "(8, 9)"
      ]
     },
     "execution_count": 6,
     "metadata": {},
     "output_type": "execute_result"
    }
   ],
   "source": [
    "sum1(8,9)"
   ]
  },
  {
   "cell_type": "code",
   "execution_count": 7,
   "id": "6643a232-391a-4b36-b7ae-8aa874506b1e",
   "metadata": {},
   "outputs": [
    {
     "data": {
      "text/plain": [
       "(3, 4, 5, 67)"
      ]
     },
     "execution_count": 7,
     "metadata": {},
     "output_type": "execute_result"
    }
   ],
   "source": [
    "sum1(3,4,5,67)"
   ]
  },
  {
   "cell_type": "code",
   "execution_count": 10,
   "id": "b5a9e780-e91f-4c77-8196-bd6b51c1a139",
   "metadata": {},
   "outputs": [
    {
     "name": "stdout",
     "output_type": "stream",
     "text": [
      "2\n",
      "3\n",
      "4\n",
      "5\n",
      "6\n",
      "7\n"
     ]
    }
   ],
   "source": [
    "for i in (2,3,4,5,6,7):\n",
    "    print (i)"
   ]
  },
  {
   "cell_type": "markdown",
   "id": "01d827b0-2e57-45e9-820c-f1014c878966",
   "metadata": {},
   "source": [
    "4. What is the purpose of the return statement in a Python function?"
   ]
  },
  {
   "cell_type": "markdown",
   "id": "eb89db00-2117-49c6-b255-7981e5baca5c",
   "metadata": {},
   "source": [
    " answ : returns give output of a function .\n",
    " Return statement is to send a value back to the caller of the function. This allows the function to provide output that can be used in further computations or logic."
   ]
  },
  {
   "cell_type": "code",
   "execution_count": 11,
   "id": "2bcf4033-4f64-454a-8f73-898beda55c13",
   "metadata": {},
   "outputs": [],
   "source": [
    "def func():\n",
    "    return \"this is my 4th assignment\""
   ]
  },
  {
   "cell_type": "code",
   "execution_count": 12,
   "id": "be35a0f4-26b0-4374-8758-105cb801a898",
   "metadata": {},
   "outputs": [
    {
     "data": {
      "text/plain": [
       "'this is my 4th assignment'"
      ]
     },
     "execution_count": 12,
     "metadata": {},
     "output_type": "execute_result"
    }
   ],
   "source": [
    "func()"
   ]
  },
  {
   "cell_type": "markdown",
   "id": "bdcd05fc-1b46-4728-a2d9-1bcb916a51c4",
   "metadata": {},
   "source": [
    "5. What are iterators in Python and how do they differ from iterables?"
   ]
  },
  {
   "cell_type": "markdown",
   "id": "e3f9a624-82ad-4dbf-9197-d1a95a684ffa",
   "metadata": {},
   "source": [
    "iterables is any python object/sequential structure / data structure that is capable of returning its memebers one at a time.\n",
    "permitted it to be iterated over in a loop.examples list,tuples,sets,string\n"
   ]
  },
  {
   "cell_type": "code",
   "execution_count": 14,
   "id": "1565edc8-40c6-4852-9fb5-449e02b918d6",
   "metadata": {},
   "outputs": [
    {
     "name": "stdout",
     "output_type": "stream",
     "text": [
      "a\n",
      "r\n",
      "t\n",
      "i\n",
      "f\n",
      "i\n",
      "c\n",
      "i\n",
      "a\n",
      "l\n",
      " \n",
      "i\n",
      "n\n",
      "t\n",
      "e\n",
      "l\n",
      "l\n",
      "i\n",
      "g\n",
      "e\n",
      "n\n",
      "c\n",
      "e\n"
     ]
    }
   ],
   "source": [
    "for i in \"artificial intelligence\":\n",
    "    print(i)\n"
   ]
  },
  {
   "cell_type": "markdown",
   "id": "040409b5-a9f0-46c9-ae31-e3ddccdc9e70",
   "metadata": {},
   "source": [
    "iterator is an object represnting stream of data, which retun the data one by one.\n",
    "it first converting the iterable string to iterator object using(iter)and access the next."
   ]
  },
  {
   "cell_type": "code",
   "execution_count": 19,
   "id": "5e4b3b20-eebe-4896-850d-99ae1726898d",
   "metadata": {},
   "outputs": [
    {
     "data": {
      "text/plain": [
       "<list_iterator at 0x797a2c273580>"
      ]
     },
     "execution_count": 19,
     "metadata": {},
     "output_type": "execute_result"
    }
   ],
   "source": [
    "l=iter([1,2,3,4])\n",
    "l"
   ]
  },
  {
   "cell_type": "code",
   "execution_count": 20,
   "id": "737aa2ae-88cc-427e-b1c7-1b775e948341",
   "metadata": {},
   "outputs": [
    {
     "data": {
      "text/plain": [
       "1"
      ]
     },
     "execution_count": 20,
     "metadata": {},
     "output_type": "execute_result"
    }
   ],
   "source": [
    "next(l)"
   ]
  },
  {
   "cell_type": "code",
   "execution_count": 21,
   "id": "a57a73d5-5d51-45f9-be6a-d5a40bd4cb11",
   "metadata": {},
   "outputs": [
    {
     "data": {
      "text/plain": [
       "2"
      ]
     },
     "execution_count": 21,
     "metadata": {},
     "output_type": "execute_result"
    }
   ],
   "source": [
    "next(l)"
   ]
  },
  {
   "cell_type": "code",
   "execution_count": 22,
   "id": "3d974dc4-7d4e-4162-9c6b-d6b1899a3ca3",
   "metadata": {},
   "outputs": [
    {
     "data": {
      "text/plain": [
       "3"
      ]
     },
     "execution_count": 22,
     "metadata": {},
     "output_type": "execute_result"
    }
   ],
   "source": [
    "next(l)"
   ]
  },
  {
   "cell_type": "code",
   "execution_count": 23,
   "id": "a194b62e-605a-4e02-8061-fdba92c0c796",
   "metadata": {},
   "outputs": [
    {
     "data": {
      "text/plain": [
       "4"
      ]
     },
     "execution_count": 23,
     "metadata": {},
     "output_type": "execute_result"
    }
   ],
   "source": [
    "next(l)"
   ]
  },
  {
   "cell_type": "markdown",
   "id": "359274f0-c2c2-4c97-8001-bf0f62c81cc7",
   "metadata": {},
   "source": [
    "6. Explain the concept of generators in Python and how they are defined"
   ]
  },
  {
   "cell_type": "markdown",
   "id": "c9cce7b3-4525-4f7c-918d-ba27d8f016fc",
   "metadata": {},
   "source": [
    "generator function is an regular function takes a list and give square of each of list.since its returning in one go,memory usage is more.\n",
    "it will a lot of execution times if there is a lot of computations as all the computations will be done first and then calculation will be returned in one go."
   ]
  },
  {
   "cell_type": "code",
   "execution_count": 24,
   "id": "f4cbf6ae-7005-42b7-ac91-06e50177e6bb",
   "metadata": {},
   "outputs": [
    {
     "data": {
      "text/plain": [
       "[0, 1, 4, 9, 16, 25, 36, 49, 64, 81]"
      ]
     },
     "execution_count": 24,
     "metadata": {},
     "output_type": "execute_result"
    }
   ],
   "source": [
    "def square_number(n):\n",
    "    result=[]\n",
    "    for i in range (n):\n",
    "        result.append(i**2)\n",
    "    return result\n",
    "square_number(10)"
   ]
  },
  {
   "cell_type": "code",
   "execution_count": 27,
   "id": "faa0b5f8-fc15-485a-979b-79cf61dccff8",
   "metadata": {},
   "outputs": [],
   "source": [
    "def fib(n):\n",
    "    a=0\n",
    "    b=1\n",
    "    for i in range (n):\n",
    "        yield a\n",
    "        a,b=b,a+b\n"
   ]
  },
  {
   "cell_type": "code",
   "execution_count": 31,
   "id": "ffdf2e88-58b1-4820-a929-464c3b545484",
   "metadata": {},
   "outputs": [
    {
     "data": {
      "text/plain": [
       "<generator object fib at 0x797a2c171070>"
      ]
     },
     "execution_count": 31,
     "metadata": {},
     "output_type": "execute_result"
    }
   ],
   "source": [
    "f=fib (1000)\n",
    "f"
   ]
  },
  {
   "cell_type": "code",
   "execution_count": 32,
   "id": "c23db434-423e-4b9a-8a50-3e7b67ce3711",
   "metadata": {},
   "outputs": [
    {
     "data": {
      "text/plain": [
       "0"
      ]
     },
     "execution_count": 32,
     "metadata": {},
     "output_type": "execute_result"
    }
   ],
   "source": [
    "next(f)"
   ]
  },
  {
   "cell_type": "code",
   "execution_count": 33,
   "id": "c296b185-a80e-4198-bc79-8c714acbb48c",
   "metadata": {},
   "outputs": [
    {
     "data": {
      "text/plain": [
       "1"
      ]
     },
     "execution_count": 33,
     "metadata": {},
     "output_type": "execute_result"
    }
   ],
   "source": [
    "next(f)"
   ]
  },
  {
   "cell_type": "code",
   "execution_count": 34,
   "id": "7147ac5d-ee25-4905-9c0c-8e084dd56271",
   "metadata": {},
   "outputs": [
    {
     "data": {
      "text/plain": [
       "1"
      ]
     },
     "execution_count": 34,
     "metadata": {},
     "output_type": "execute_result"
    }
   ],
   "source": [
    "next(f)"
   ]
  },
  {
   "cell_type": "code",
   "execution_count": 35,
   "id": "e71bd38a-b86b-4caa-8686-1e07c694025a",
   "metadata": {},
   "outputs": [
    {
     "data": {
      "text/plain": [
       "2"
      ]
     },
     "execution_count": 35,
     "metadata": {},
     "output_type": "execute_result"
    }
   ],
   "source": [
    "next(f)"
   ]
  },
  {
   "cell_type": "markdown",
   "id": "b6d8f565-7d09-47a4-8ee1-d3cbc76abdf1",
   "metadata": {},
   "source": [
    "7. What are the advantages of using generators over regular functions?"
   ]
  },
  {
   "cell_type": "markdown",
   "id": "55324e62-dd66-475d-a457-a51636f6c2c1",
   "metadata": {},
   "source": [
    "Generators are more memory-efficient than regular functions because they generate values one at a time and only when needed, rather than storing all values in memory."
   ]
  },
  {
   "cell_type": "markdown",
   "id": "0afbab22-e5d8-433c-a9b3-6983d624c8db",
   "metadata": {},
   "source": [
    "Regular Functions: Typically, regular functions return all results at once (e.g. list), which can consume significant memory if the result set is large"
   ]
  },
  {
   "cell_type": "code",
   "execution_count": 45,
   "id": "2514b1b4-64d9-4bb1-8698-d2f3a371be67",
   "metadata": {},
   "outputs": [],
   "source": [
    "def only_numeric(a):\n",
    "    n=[]\n",
    "    for i in a:\n",
    "        if type(i)==int or type(i)==float:\n",
    "            n.append(i)\n",
    "    return n"
   ]
  },
  {
   "cell_type": "code",
   "execution_count": 46,
   "id": "313f90d1-a6f1-4a5f-a10c-4393d7ee609b",
   "metadata": {},
   "outputs": [
    {
     "data": {
      "text/plain": [
       "[1, 2.3, 45]"
      ]
     },
     "execution_count": 46,
     "metadata": {},
     "output_type": "execute_result"
    }
   ],
   "source": [
    "only_numeric([1,2.3,45,\"tashu\",True,\"str\"])"
   ]
  },
  {
   "cell_type": "markdown",
   "id": "998bb5c9-ce6c-4f06-b0b8-f148d84f0e1e",
   "metadata": {},
   "source": [
    "GENERATORS calculates the square of values and return in one go"
   ]
  },
  {
   "cell_type": "code",
   "execution_count": null,
   "id": "f226febc-5343-428a-b67e-925d79c72391",
   "metadata": {},
   "outputs": [],
   "source": [
    "def square_number(n):\n",
    "    for i in range(n):\n",
    "        yield i**2"
   ]
  },
  {
   "cell_type": "code",
   "execution_count": 52,
   "id": "58a1fc66-09fd-4fc5-8846-a421c2f2c2a4",
   "metadata": {},
   "outputs": [
    {
     "data": {
      "text/plain": [
       "<generator object square_number at 0x797a2c1729d0>"
      ]
     },
     "execution_count": 52,
     "metadata": {},
     "output_type": "execute_result"
    }
   ],
   "source": [
    "square_number(10)"
   ]
  },
  {
   "cell_type": "code",
   "execution_count": 56,
   "id": "e38837ec-af99-4172-8c20-a5ee6e8bfea9",
   "metadata": {},
   "outputs": [],
   "source": [
    "gen=square_number(10)"
   ]
  },
  {
   "cell_type": "code",
   "execution_count": 57,
   "id": "5faf4ed4-bed6-4274-9938-c7e2bd7a5cf5",
   "metadata": {},
   "outputs": [
    {
     "data": {
      "text/plain": [
       "<generator object square_number at 0x797a2c172dc0>"
      ]
     },
     "execution_count": 57,
     "metadata": {},
     "output_type": "execute_result"
    }
   ],
   "source": [
    "gen"
   ]
  },
  {
   "cell_type": "code",
   "execution_count": 58,
   "id": "10414e1d-c9c9-4825-a36c-ae5ab4296f2a",
   "metadata": {},
   "outputs": [
    {
     "data": {
      "text/plain": [
       "0"
      ]
     },
     "execution_count": 58,
     "metadata": {},
     "output_type": "execute_result"
    }
   ],
   "source": [
    "next(gen)"
   ]
  },
  {
   "cell_type": "code",
   "execution_count": 59,
   "id": "a104b63e-6c53-48f3-a585-9c3269e925ef",
   "metadata": {},
   "outputs": [
    {
     "data": {
      "text/plain": [
       "1"
      ]
     },
     "execution_count": 59,
     "metadata": {},
     "output_type": "execute_result"
    }
   ],
   "source": [
    "next(gen)"
   ]
  },
  {
   "cell_type": "code",
   "execution_count": 60,
   "id": "0a374bcd-aca1-4039-9784-aba34306f2cb",
   "metadata": {},
   "outputs": [
    {
     "data": {
      "text/plain": [
       "4"
      ]
     },
     "execution_count": 60,
     "metadata": {},
     "output_type": "execute_result"
    }
   ],
   "source": [
    "next(gen)"
   ]
  },
  {
   "cell_type": "code",
   "execution_count": 61,
   "id": "638e2700-7bdc-4920-961c-cdfd43ba7f26",
   "metadata": {},
   "outputs": [
    {
     "data": {
      "text/plain": [
       "9"
      ]
     },
     "execution_count": 61,
     "metadata": {},
     "output_type": "execute_result"
    }
   ],
   "source": [
    "next(gen)"
   ]
  },
  {
   "cell_type": "code",
   "execution_count": 62,
   "id": "7f5c302c-d24b-425e-bdd6-da50084adb97",
   "metadata": {},
   "outputs": [
    {
     "data": {
      "text/plain": [
       "16"
      ]
     },
     "execution_count": 62,
     "metadata": {},
     "output_type": "execute_result"
    }
   ],
   "source": [
    "next(gen)"
   ]
  },
  {
   "cell_type": "code",
   "execution_count": 63,
   "id": "b7230b44-de8b-45b9-b9ad-d348d19dc849",
   "metadata": {},
   "outputs": [
    {
     "data": {
      "text/plain": [
       "25"
      ]
     },
     "execution_count": 63,
     "metadata": {},
     "output_type": "execute_result"
    }
   ],
   "source": [
    "next(gen)"
   ]
  },
  {
   "cell_type": "code",
   "execution_count": 64,
   "id": "0090319d-a0ea-44f5-9d4a-b8bfdbee5716",
   "metadata": {},
   "outputs": [
    {
     "data": {
      "text/plain": [
       "36"
      ]
     },
     "execution_count": 64,
     "metadata": {},
     "output_type": "execute_result"
    }
   ],
   "source": [
    "next(gen)"
   ]
  },
  {
   "cell_type": "markdown",
   "id": "bbde136b-4871-4d99-aed3-b5010ea5bffc",
   "metadata": {},
   "source": [
    "8. What is a lambda function in Python and when is it typically used?"
   ]
  },
  {
   "cell_type": "markdown",
   "id": "47971a27-3b62-44ab-a3dd-62cac2300ad5",
   "metadata": {},
   "source": [
    "lambda function is an anonymous function,it is typically used in lambda arguments as expressions in which no need of return statement and def keyword. "
   ]
  },
  {
   "cell_type": "code",
   "execution_count": 2,
   "id": "0e0a0c7a-b3d1-48d9-9a6f-444a6c51a64f",
   "metadata": {},
   "outputs": [
    {
     "data": {
      "text/plain": [
       "4"
      ]
     },
     "execution_count": 2,
     "metadata": {},
     "output_type": "execute_result"
    }
   ],
   "source": [
    "sq_lambda=lambda x:x**2\n",
    "sq_lambda(2)"
   ]
  },
  {
   "cell_type": "code",
   "execution_count": 3,
   "id": "95f9321a-f9d5-42dc-845d-6a3e6b56c700",
   "metadata": {},
   "outputs": [
    {
     "data": {
      "text/plain": [
       "True"
      ]
     },
     "execution_count": 3,
     "metadata": {},
     "output_type": "execute_result"
    }
   ],
   "source": [
    "is_even=lambda x:x%2==0\n",
    "is_even(4)"
   ]
  },
  {
   "cell_type": "markdown",
   "id": "f3430cb2-da6f-440c-8567-521891018568",
   "metadata": {},
   "source": [
    "9. Explain the purpose and usage of the `map()` function in Python."
   ]
  },
  {
   "cell_type": "markdown",
   "id": "2b23d2c8-105b-434d-b636-abaa62146ea9",
   "metadata": {},
   "source": [
    "answer : it executes a specified function for each of item of an iterable.\n",
    "The main purpose of the map() function is to apply a function to each element of an iterable, such as a list or tuple, and produce a new iterable of the results. This helps to streamline the process of transforming data without the need for explicit loops. #syntax>> map(func_c,*iterables)"
   ]
  },
  {
   "cell_type": "code",
   "execution_count": 4,
   "id": "55a62b9e-96bf-4522-921a-ae32a70d0a19",
   "metadata": {},
   "outputs": [],
   "source": [
    "l=[2,4,5]\n",
    "def square(l):\n",
    "    sq=[]\n",
    "    for i in l:\n",
    "        sq.append(i**2)\n",
    "    return sq"
   ]
  },
  {
   "cell_type": "code",
   "execution_count": 5,
   "id": "92e64601-6f02-44d9-9f99-5de8c7a8f8b0",
   "metadata": {},
   "outputs": [
    {
     "data": {
      "text/plain": [
       "[4, 16, 25]"
      ]
     },
     "execution_count": 5,
     "metadata": {},
     "output_type": "execute_result"
    }
   ],
   "source": [
    "square(l)"
   ]
  },
  {
   "cell_type": "code",
   "execution_count": 8,
   "id": "53715246-b144-4f36-976c-079b24fff4c4",
   "metadata": {},
   "outputs": [
    {
     "data": {
      "text/plain": [
       "[2, 4, 5]"
      ]
     },
     "execution_count": 8,
     "metadata": {},
     "output_type": "execute_result"
    }
   ],
   "source": [
    "def seq(x):\n",
    "    return x**2\n",
    "l"
   ]
  },
  {
   "cell_type": "code",
   "execution_count": 11,
   "id": "fb924fa1-a373-45a5-8356-838993066025",
   "metadata": {},
   "outputs": [
    {
     "data": {
      "text/plain": [
       "[4, 16, 25]"
      ]
     },
     "execution_count": 11,
     "metadata": {},
     "output_type": "execute_result"
    }
   ],
   "source": [
    "list(map(seq,l))"
   ]
  },
  {
   "cell_type": "code",
   "execution_count": 12,
   "id": "a0b34e93-d452-432e-9ea7-e51f1a6b5dd8",
   "metadata": {},
   "outputs": [
    {
     "data": {
      "text/plain": [
       "[4, 16, 25]"
      ]
     },
     "execution_count": 12,
     "metadata": {},
     "output_type": "execute_result"
    }
   ],
   "source": [
    "list(map(lambda x:x**2,l))"
   ]
  },
  {
   "cell_type": "markdown",
   "id": "0a4a539f-93e6-4766-bc3a-eb61a9cdce67",
   "metadata": {},
   "source": [
    "10. What is the difference between `map ()`, `reduce ()`, and `filter ()` functions in Python?"
   ]
  },
  {
   "cell_type": "markdown",
   "id": "014e0dc7-b867-47ab-a25b-6a04ccaa8a4a",
   "metadata": {},
   "source": [
    "The map() function applies a given function to each item in an iterable and returns an iterator (a map object) of the results."
   ]
  },
  {
   "cell_type": "code",
   "execution_count": 13,
   "id": "dd8ce72d-bf24-4f81-8e1a-3fa2eafe1436",
   "metadata": {},
   "outputs": [
    {
     "data": {
      "text/plain": [
       "[101, 202, 303, 404]"
      ]
     },
     "execution_count": 13,
     "metadata": {},
     "output_type": "execute_result"
    }
   ],
   "source": [
    "l1=[100,200,300,400]\n",
    "l2=[1,2,3,4]\n",
    "list(map(lambda x,y:x+y,l1,l2))"
   ]
  },
  {
   "cell_type": "markdown",
   "id": "a2e1e489-725c-45da-b384-96021129b450",
   "metadata": {},
   "source": [
    "The reduce () function ,it import reduce will always take two arguments.\n",
    "The reduce() function (from the functools module) applies a function cumulatively to the items of an iterable, reducing it to a single value."
   ]
  },
  {
   "cell_type": "markdown",
   "id": "2bbbebcb-ed2e-4d1e-8055-ce9664214a2f",
   "metadata": {},
   "source": [
    "l=[2,1,3,4,4,5,6]\n",
    "reduce (lambda x,y:x+y,l)\n",
    "#25"
   ]
  },
  {
   "cell_type": "markdown",
   "id": "157f7ad6-d007-456a-b8bf-cc082e70ccd6",
   "metadata": {},
   "source": [
    "filter() function is used to filter elements from an iterable based on some conditions.\n",
    "#syntax>> filter(function,iterable)"
   ]
  },
  {
   "cell_type": "code",
   "execution_count": 18,
   "id": "e1297003-b978-402b-8096-e169ed233ab2",
   "metadata": {},
   "outputs": [
    {
     "data": {
      "text/plain": [
       "[2, 1, 3, 4, 4, 5, 6]"
      ]
     },
     "execution_count": 18,
     "metadata": {},
     "output_type": "execute_result"
    }
   ],
   "source": [
    "l"
   ]
  },
  {
   "cell_type": "code",
   "execution_count": 19,
   "id": "3f1cb315-350d-407c-83ef-50edbce185b1",
   "metadata": {},
   "outputs": [
    {
     "data": {
      "text/plain": [
       "[2, 4, 4, 6]"
      ]
     },
     "execution_count": 19,
     "metadata": {},
     "output_type": "execute_result"
    }
   ],
   "source": [
    "list(filter(lambda x:x%2==0,l))"
   ]
  },
  {
   "cell_type": "code",
   "execution_count": 20,
   "id": "81e20b85-2292-4ab9-a9c2-64c3533b010a",
   "metadata": {},
   "outputs": [
    {
     "data": {
      "text/plain": [
       "[1, 3, 5]"
      ]
     },
     "execution_count": 20,
     "metadata": {},
     "output_type": "execute_result"
    }
   ],
   "source": [
    "list(filter(lambda x:x%2!=0,l))"
   ]
  },
  {
   "cell_type": "markdown",
   "id": "387123aa-faa3-4744-9241-38a92466f095",
   "metadata": {},
   "source": [
    "11. Using pen & Paper write the internal mechanism for sum operation using  reduce function on this given\n",
    "list:[47,11,42,13]"
   ]
  },
  {
   "cell_type": "markdown",
   "id": "c573beb4-b187-4abb-aa79-92cf436eb1f5",
   "metadata": {},
   "source": [
    "https://docs.google.com/document/d/1EPiGwkjS70J3Vd6N_sm5QrX0wFHzQDSfVELOffmAqxI/edit?usp=sharing"
   ]
  },
  {
   "cell_type": "code",
   "execution_count": null,
   "id": "408fd945-7740-47b8-9be2-ec9f9a309915",
   "metadata": {},
   "outputs": [],
   "source": []
  },
  {
   "cell_type": "code",
   "execution_count": null,
   "id": "11b97624-d0b5-4cec-860e-e48fe812b451",
   "metadata": {},
   "outputs": [],
   "source": []
  },
  {
   "cell_type": "code",
   "execution_count": null,
   "id": "246fe988-49ff-4f99-9af7-a6d168491238",
   "metadata": {},
   "outputs": [],
   "source": []
  },
  {
   "cell_type": "code",
   "execution_count": null,
   "id": "7323a14f-84ee-4032-b26e-1eea73414600",
   "metadata": {},
   "outputs": [],
   "source": []
  }
 ],
 "metadata": {
  "kernelspec": {
   "display_name": "Python 3 (ipykernel)",
   "language": "python",
   "name": "python3"
  },
  "language_info": {
   "codemirror_mode": {
    "name": "ipython",
    "version": 3
   },
   "file_extension": ".py",
   "mimetype": "text/x-python",
   "name": "python",
   "nbconvert_exporter": "python",
   "pygments_lexer": "ipython3",
   "version": "3.10.8"
  }
 },
 "nbformat": 4,
 "nbformat_minor": 5
}
